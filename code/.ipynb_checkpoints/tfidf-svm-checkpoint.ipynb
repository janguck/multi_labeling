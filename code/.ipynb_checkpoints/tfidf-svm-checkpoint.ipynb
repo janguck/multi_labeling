{
 "cells": [
  {
   "cell_type": "code",
   "execution_count": 1,
   "metadata": {},
   "outputs": [],
   "source": [
    "import pandas as pd\n",
    "from konlpy.tag import Twitter\n",
    "from sklearn.feature_extraction.text import TfidfVectorizer\n",
    "from sklearn.model_selection import train_test_split\n",
    "from sklearn.multiclass import OneVsRestClassifier\n",
    "from sklearn.svm import LinearSVC\n",
    "from sklearn.linear_model import SGDClassifier\n",
    "from sklearn.metrics import classification_report\n",
    "import pickle\n",
    "from sklearn.ensemble import BaggingClassifier\n",
    "from sklearn.svm import SVC\n",
    "\n",
    "pos_tagger = Twitter()"
   ]
  },
  {
   "cell_type": "code",
   "execution_count": 2,
   "metadata": {},
   "outputs": [],
   "source": [
    "with open('../input/x_train.pickle', 'rb') as f:\n",
    "    x_train = pickle.load(f)\n",
    "with open('../input/x_test.pickle', 'rb') as f:\n",
    "    x_test = pickle.load(f)\n",
    "with open('../input/y_train.pickle', 'rb') as f:\n",
    "    y_train = pickle.load(f)\n",
    "with open('../input/y_test.pickle', 'rb') as f:\n",
    "    y_test = pickle.load(f)"
   ]
  },
  {
   "cell_type": "code",
   "execution_count": 3,
   "metadata": {},
   "outputs": [],
   "source": [
    "stop_dr = \"../input/stopword.txt\"\n",
    "f = open(stop_dr, 'r')\n",
    "stopword_korean = set([value.strip() for value in f.readlines()])"
   ]
  },
  {
   "cell_type": "code",
   "execution_count": 4,
   "metadata": {},
   "outputs": [],
   "source": [
    "def tokenize(doc):\n",
    "    return ['/'.join(t) for t in pos_tagger.pos(doc, norm=True, stem=True)]"
   ]
  },
  {
   "cell_type": "code",
   "execution_count": null,
   "metadata": {},
   "outputs": [],
   "source": [
    "x_train  = [[i.split(\"/\")[0] for i in tokenize(j) if i.split(\"/\")[1] in ['Noun','Verb','Adjective'] and i.split(\"/\")[0] not in stopword_korean ]for j in x_train ]\n",
    "x_train = [','.join(i) for i in x_train]\n",
    "\n",
    "x_test  = [[i.split(\"/\")[0] for i in tokenize(j) if i.split(\"/\")[1] in ['Noun','Verb','Adjective'] and i.split(\"/\")[0] not in stopword_korean ]for j in x_test ]\n",
    "x_test = [','.join(i) for i in x_test]"
   ]
  },
  {
   "cell_type": "code",
   "execution_count": null,
   "metadata": {},
   "outputs": [],
   "source": [
    "tfidf = TfidfVectorizer(analyzer=lambda d: d.split(\",\")).fit(x_train)\n",
    "x_train = tfidf.fit_transform(x_train).toarray()\n",
    "x_test = tfidf.transform(x_test).toarray()"
   ]
  },
  {
   "cell_type": "code",
   "execution_count": null,
   "metadata": {
    "scrolled": true
   },
   "outputs": [],
   "source": [
    "#svm = OneVsRestClassifier(SGDClassifier(loss=\"log\", penalty=\"l2\", random_state=40,max_iter=10), n_jobs=-1).fit(x_train, y_train)\n",
    "n_estimators = 50\n",
    "svm = OneVsRestClassifier(BaggingClassifier(SVC(kernel='linear', probability=True, class_weight='balanced'), max_samples=1.0 / n_estimators, n_estimators=n_estimators))\n",
    "svm.fit(x_train,y_train)\n",
    "predict = svm.predict_proba(x_test)\n",
    "for standard in [x * 0.1 for x in range(1, 10)]:\n",
    "    print(\"Probability: \", standard)\n",
    "    print(classification_report(y_test==1, predict>standard))"
   ]
  }
 ],
 "metadata": {
  "kernelspec": {
   "display_name": "Python (other-env)",
   "language": "python",
   "name": "ml_python"
  },
  "language_info": {
   "codemirror_mode": {
    "name": "ipython",
    "version": 3
   },
   "file_extension": ".py",
   "mimetype": "text/x-python",
   "name": "python",
   "nbconvert_exporter": "python",
   "pygments_lexer": "ipython3",
   "version": "3.5.4"
  }
 },
 "nbformat": 4,
 "nbformat_minor": 2
}
